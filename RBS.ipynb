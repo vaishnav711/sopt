{
  "nbformat": 4,
  "nbformat_minor": 0,
  "metadata": {
    "colab": {
      "name": "RBS.ipynb",
      "provenance": [],
      "mount_file_id": "1a_niEDUMc7T4zoI0qLtBFD5DBRQkT-fl",
      "authorship_tag": "ABX9TyPgGPjOMRUss18y4bA7Jf+/",
      "include_colab_link": true
    },
    "kernelspec": {
      "name": "python3",
      "display_name": "Python 3"
    },
    "language_info": {
      "name": "python"
    }
  },
  "cells": [
    {
      "cell_type": "markdown",
      "metadata": {
        "id": "view-in-github",
        "colab_type": "text"
      },
      "source": [
        "<a href=\"https://colab.research.google.com/github/vaishnav711/sopt/blob/main/RBS.ipynb\" target=\"_parent\"><img src=\"https://colab.research.google.com/assets/colab-badge.svg\" alt=\"Open In Colab\"/></a>"
      ]
    },
    {
      "cell_type": "code",
      "source": [
        "pip install category_encoders xgboost"
      ],
      "metadata": {
        "id": "MKiza8vEKK3X",
        "colab": {
          "base_uri": "https://localhost:8080/"
        },
        "outputId": "d408076c-6e01-4822-ab23-8ac32e667869"
      },
      "execution_count": 1,
      "outputs": [
        {
          "output_type": "stream",
          "name": "stdout",
          "text": [
            "Collecting category_encoders\n",
            "  Downloading category_encoders-2.4.0-py2.py3-none-any.whl (86 kB)\n",
            "\u001b[?25l\r\u001b[K     |███▉                            | 10 kB 22.2 MB/s eta 0:00:01\r\u001b[K     |███████▋                        | 20 kB 26.1 MB/s eta 0:00:01\r\u001b[K     |███████████▍                    | 30 kB 31.9 MB/s eta 0:00:01\r\u001b[K     |███████████████▏                | 40 kB 25.4 MB/s eta 0:00:01\r\u001b[K     |███████████████████             | 51 kB 20.5 MB/s eta 0:00:01\r\u001b[K     |██████████████████████▊         | 61 kB 23.7 MB/s eta 0:00:01\r\u001b[K     |██████████████████████████▌     | 71 kB 18.7 MB/s eta 0:00:01\r\u001b[K     |██████████████████████████████▎ | 81 kB 19.9 MB/s eta 0:00:01\r\u001b[K     |████████████████████████████████| 86 kB 5.1 MB/s \n",
            "\u001b[?25hRequirement already satisfied: xgboost in /usr/local/lib/python3.7/dist-packages (0.90)\n",
            "Requirement already satisfied: scikit-learn>=0.20.0 in /usr/local/lib/python3.7/dist-packages (from category_encoders) (1.0.2)\n",
            "Requirement already satisfied: statsmodels>=0.9.0 in /usr/local/lib/python3.7/dist-packages (from category_encoders) (0.10.2)\n",
            "Requirement already satisfied: pandas>=0.21.1 in /usr/local/lib/python3.7/dist-packages (from category_encoders) (1.3.5)\n",
            "Requirement already satisfied: numpy>=1.14.0 in /usr/local/lib/python3.7/dist-packages (from category_encoders) (1.21.5)\n",
            "Requirement already satisfied: scipy>=1.0.0 in /usr/local/lib/python3.7/dist-packages (from category_encoders) (1.4.1)\n",
            "Requirement already satisfied: patsy>=0.5.1 in /usr/local/lib/python3.7/dist-packages (from category_encoders) (0.5.2)\n",
            "Requirement already satisfied: pytz>=2017.3 in /usr/local/lib/python3.7/dist-packages (from pandas>=0.21.1->category_encoders) (2018.9)\n",
            "Requirement already satisfied: python-dateutil>=2.7.3 in /usr/local/lib/python3.7/dist-packages (from pandas>=0.21.1->category_encoders) (2.8.2)\n",
            "Requirement already satisfied: six in /usr/local/lib/python3.7/dist-packages (from patsy>=0.5.1->category_encoders) (1.15.0)\n",
            "Requirement already satisfied: joblib>=0.11 in /usr/local/lib/python3.7/dist-packages (from scikit-learn>=0.20.0->category_encoders) (1.1.0)\n",
            "Requirement already satisfied: threadpoolctl>=2.0.0 in /usr/local/lib/python3.7/dist-packages (from scikit-learn>=0.20.0->category_encoders) (3.1.0)\n",
            "Installing collected packages: category-encoders\n",
            "Successfully installed category-encoders-2.4.0\n"
          ]
        }
      ]
    },
    {
      "cell_type": "code",
      "source": [
        "import numpy as np\n",
        "import category_encoders as ce\n",
        "import xgboost as xgb\n",
        "from sklearn.model_selection import train_test_split\n",
        "from sklearn.preprocessing import LabelEncoder \n",
        "from sklearn.metrics import classification_report\n",
        "from imblearn.combine import SMOTETomek, SMOTEENN\n",
        "from matplotlib import pyplot\n",
        "from google.colab import drive\n",
        "from collections import Counter"
      ],
      "metadata": {
        "id": "edfSQmvgoRwz",
        "colab": {
          "base_uri": "https://localhost:8080/"
        },
        "outputId": "3274991f-fdbc-4663-8180-0bdc435226fc"
      },
      "execution_count": 2,
      "outputs": [
        {
          "output_type": "stream",
          "name": "stderr",
          "text": [
            "/usr/local/lib/python3.7/dist-packages/statsmodels/tools/_testing.py:19: FutureWarning: pandas.util.testing is deprecated. Use the functions in the public API at pandas.testing instead.\n",
            "  import pandas.util.testing as tm\n"
          ]
        }
      ]
    },
    {
      "cell_type": "code",
      "source": [
        "# Function to split the data into train and test datasets and also to display the shapes of the same\n",
        "def stratified_sampling(X, y, test_size):\n",
        "  # Stratified sampling of X, y\n",
        "  train_X, test_X, train_y, test_y = train_test_split(X, y, test_size=test_size, stratify=y['lead_status_N'], random_state=123)\n",
        "\n",
        "  print(train_X.shape, test_X.shape)\n",
        "  print()\n",
        "  print(f'Number of rows in Train dataset: {train_X.shape[0]}')\n",
        "  print(train_y['lead_status_N'].value_counts())\n",
        "  print()\n",
        "  print(f'Number of rows in Test dataset: {test_X.shape[0]}')\n",
        "  print(test_y['lead_status_N'].value_counts())\n",
        "  return train_X, test_X, train_y, test_y"
      ],
      "metadata": {
        "id": "1_4vfScewgWV"
      },
      "execution_count": 3,
      "outputs": []
    },
    {
      "cell_type": "code",
      "source": [
        "# Function to balance the imbalanced dataset using [SMOTETomek, SMOTEENN]\n",
        "def balanced_sample(X, y, method):\n",
        "  if method == 'SMOTETomek':\n",
        "    # Balancing the dataset - using SMOTETomek\n",
        "    smote_tomek = SMOTETomek(random_state=0)\n",
        "    X_resampled, y_resampled = smote_tomek.fit_resample(X, y)\n",
        "  if method == 'SMOTEENN':\n",
        "    # Balancing the dataset - using SMOTETENN\n",
        "    smote_enn = SMOTEENN(random_state=0)\n",
        "    X_resampled, y_resampled = smote_enn.fit_resample(X, y)\n",
        "\n",
        "  # Printing the distribution of y variable of resampled data\n",
        "  print('Before resampling:\\n', y['lead_status_N'].value_counts())\n",
        "  print('After resampling:\\n', y_resampled['lead_status_N'].value_counts())\n",
        "\n",
        "  return X_resampled, y_resampled"
      ],
      "metadata": {
        "id": "sG84PKh1xzCo"
      },
      "execution_count": 4,
      "outputs": []
    },
    {
      "cell_type": "code",
      "source": [
        "# Function to predict from test_X and to display the classification report\n",
        "def predict_test_data(test_X, test_y):\n",
        "  # Make predictions for test data\n",
        "  y_pred = model.predict(test_X)\n",
        "  predictions = [round(value) for value in y_pred]\n",
        "\n",
        "  # Displaying the classification report\n",
        "  print(classification_report(test_y, predictions))"
      ],
      "metadata": {
        "id": "XdrO2WnIsJyL"
      },
      "execution_count": 5,
      "outputs": []
    },
    {
      "cell_type": "code",
      "source": [
        "# Function to print the model performance metrics\n",
        "def model_performance_metrics(model):\n",
        "  # Retrieve performance metrics\n",
        "  results = model.evals_result()\n",
        "  epochs = len(results['validation_0']['error'])\n",
        "  x_axis = range(0, epochs)\n",
        "  # Plot log loss\n",
        "  fig, ax = pyplot.subplots()\n",
        "  ax.plot(x_axis, results['validation_0']['logloss'], label='Train')\n",
        "  ax.plot(x_axis, results['validation_1']['logloss'], label='Test')\n",
        "  ax.legend()\n",
        "  pyplot.ylabel('Log Loss')\n",
        "  pyplot.title('XGBoost Log Loss')\n",
        "  pyplot.show()\n",
        "  # Plot classification error\n",
        "  fig, ax = pyplot.subplots()\n",
        "  ax.plot(x_axis, results['validation_0']['error'], label='Train')\n",
        "  ax.plot(x_axis, results['validation_1']['error'], label='Test')\n",
        "  ax.legend()\n",
        "  pyplot.ylabel('Classification Error')\n",
        "  pyplot.title('XGBoost Classification Error')\n",
        "  pyplot.show()"
      ],
      "metadata": {
        "id": "1WRELXURsPsp"
      },
      "execution_count": 6,
      "outputs": []
    },
    {
      "cell_type": "code",
      "source": [
        "# Function to build XGB Classifier model\n",
        "def XGB_Classifier_model(train_X, train_y, params):\n",
        "  model = xgb.XGBClassifier(**params)\n",
        "  eval_set = [(train_X, train_y), (test_X, test_y)]\n",
        "  model.fit(train_X, train_y.values.ravel(), early_stopping_rounds=10, eval_metric=[\"error\", \"logloss\"], eval_set=eval_set, verbose=True)\n",
        "  return model"
      ],
      "metadata": {
        "id": "Fa3g0SpDB8LF"
      },
      "execution_count": 7,
      "outputs": []
    },
    {
      "cell_type": "code",
      "source": [
        "# Mount drive\n",
        "drive.mount('/content/drive')"
      ],
      "metadata": {
        "colab": {
          "base_uri": "https://localhost:8080/"
        },
        "id": "Y0RF2Jv5E4OX",
        "outputId": "2ea77e68-01ba-40f8-fc2b-073aa1cab57b"
      },
      "execution_count": 8,
      "outputs": [
        {
          "output_type": "stream",
          "name": "stdout",
          "text": [
            "Drive already mounted at /content/drive; to attempt to forcibly remount, call drive.mount(\"/content/drive\", force_remount=True).\n"
          ]
        }
      ]
    },
    {
      "cell_type": "code",
      "source": [
        "import pandas as pd\n",
        "fpath = r'/content/drive/MyDrive/RBS/temp.feather'\n",
        "so_DF = pd.read_feather(fpath)\n",
        "\n",
        "# Dataframe with lead_status == 'Open'\n",
        "so_open_DF = so_DF.query(\"lead_status == 'Open'\")\n",
        "\n",
        "# Dataframe without lead_status as 'Open'\n",
        "so_DF = so_DF.query(\"lead_status != 'Open'\")\n",
        "\n",
        "# No. of hours by which the lead was closed\n",
        "#so_DF['lead_closed_hours'] = so_DF['modified_on'] - so_DF['created_on']\n",
        "# lead_closed in hours\n",
        "#so_DF['lead_closed_hours'] = so_DF['lead_closed_hours'].dt.seconds / 3600.0\n",
        "#so_DF['lead_closed_hours'] = (so_DF['lead_closed_hours'] <= 72).astype(int)\n",
        "\n",
        "#print(so_DF.shape)"
      ],
      "metadata": {
        "id": "ft4YqWJpq3UO"
      },
      "execution_count": 9,
      "outputs": []
    },
    {
      "cell_type": "code",
      "source": [
        "print('No. of nulls in the dataset: ', so_DF.isnull().values.sum())\n",
        "\n",
        "print('\\nNulls in individual columns:')\n",
        "print(so_DF.isnull().sum())"
      ],
      "metadata": {
        "id": "ysGBBMs5PzYu",
        "colab": {
          "base_uri": "https://localhost:8080/"
        },
        "outputId": "8a40a0d2-cfed-4cd7-c4b6-f2099e3ae28d"
      },
      "execution_count": null,
      "outputs": [
        {
          "output_type": "stream",
          "name": "stdout",
          "text": [
            "No. of nulls in the dataset:  898715\n",
            "\n",
            "Nulls in individual columns:\n",
            "lead                              0\n",
            "do_not_modify_row_checksum        0\n",
            "do_not_modify_modified_on     70777\n",
            "owner                             0\n",
            "lead_source                     772\n",
            "portfolio_id                  32521\n",
            "created_on                        0\n",
            "lead_closed_date                  0\n",
            "modified_on                       0\n",
            "rbs_bin                       19941\n",
            "rbs_cin                       64148\n",
            "merchant                         23\n",
            "trading_name                  69178\n",
            "legal_entity_type              6155\n",
            "current_provider              46594\n",
            "mcc_code                      70777\n",
            "lead_status                       0\n",
            "status_reason                     2\n",
            "lead_id                       70777\n",
            "referral_id                   24397\n",
            "currently_taking_payments     39784\n",
            "ad_content                    63793\n",
            "campaign                      60321\n",
            "keyword                       66994\n",
            "landing_page                  60321\n",
            "medium                        60321\n",
            "source                        60323\n",
            "banked_customer               10796\n",
            "lead_closed_hours                 0\n",
            "dtype: int64\n"
          ]
        }
      ]
    },
    {
      "cell_type": "code",
      "source": [
        "# skip\n",
        "col_names = list(so_DF.columns)\n",
        "col_list = []\n",
        "for cn in col_names:\n",
        "  count = so_DF[cn].count()\n",
        "  nunique = so_DF[cn].nunique()\n",
        "  data_type = so_DF[cn].dtype\n",
        "\n",
        "  cntuple = (cn, count, nunique)\n",
        "  col_list.append(cntuple)\n",
        "  print(cntuple)"
      ],
      "metadata": {
        "id": "x5UGQNH60dca"
      },
      "execution_count": null,
      "outputs": []
    },
    {
      "cell_type": "code",
      "source": [
        "col_list = [('lead', 71138, 71138, True), ('do_not_modify_row_checksum', 71138, 71138, False), ('do_not_modify_modified_on', 0, 0, False), ('owner', 71138, 89, False),\n",
        " ('lead_source', 70302, 9, True), ('portfolio_id', 38369, 1744, False), ('created_on', 71138, 66250, False), ('lead_closed_date', 70777, 807, False),\n",
        " ('modified_on', 71138, 52484, False), ('rbs_bin', 51020, 44817, False), ('rbs_cin', 6642, 6492, False), ('merchant', 71113, 66278, False), ('trading_name', 1653, 1624, False),\n",
        " ('legal_entity_type', 64954, 10, True), ('current_provider', 24271, 26, True), ('mcc_code', 0, 0, False), ('lead_status', 71138, 3, True), ('status_reason', 71136, 30, True),\n",
        " ('lead_id', 0, 0, False), ('referral_id', 46537, 42687, False), ('currently_taking_payments', 31098, 3, True), ('ad_content', 6993, 140, True), ('campaign', 10470, 91, True),\n",
        " ('keyword', 3784, 320, True), ('landing_page', 10470, 16, True), ('medium', 10470, 26, True), ('source', 10468, 21, True), ('banked_customer', 60299, 3, True)]\n",
        "\n",
        "\n",
        "col_selected = []\n",
        "cn_selected = []\n",
        "for cl in col_list:\n",
        "  if cl[3] == True:\n",
        "    col_selected.append(cl)\n",
        "    cn_selected.append(cl[0])\n",
        "print(col_selected)\n",
        "\n",
        "# Selecting the required columns\n",
        "so_DF = so_DF[cn_selected]"
      ],
      "metadata": {
        "colab": {
          "base_uri": "https://localhost:8080/"
        },
        "id": "jFcvUZ2m1BeD",
        "outputId": "dc41ca2d-6e84-46a8-c153-f9d62b655ba1"
      },
      "execution_count": 10,
      "outputs": [
        {
          "output_type": "stream",
          "name": "stdout",
          "text": [
            "[('lead', 71138, 71138, True), ('lead_source', 70302, 9, True), ('legal_entity_type', 64954, 10, True), ('current_provider', 24271, 26, True), ('lead_status', 71138, 3, True), ('status_reason', 71136, 30, True), ('currently_taking_payments', 31098, 3, True), ('ad_content', 6993, 140, True), ('campaign', 10470, 91, True), ('keyword', 3784, 320, True), ('landing_page', 10470, 16, True), ('medium', 10470, 26, True), ('source', 10468, 21, True), ('banked_customer', 60299, 3, True)]\n"
          ]
        }
      ]
    },
    {
      "cell_type": "code",
      "source": [
        "#print(so_DF.shape)\n",
        "#so_DF = so_DF.replace(to_replace='None', value=np.nan).dropna()\n",
        "#so_DF = so_DF.dropna(axis=0, how='any')\n",
        "\n",
        "so_DF = so_DF.replace(to_replace=np.nan, value='Unknown')\n",
        "so_DF = so_DF.replace(to_replace='NULL', value='Unknown')\n",
        "#print(so_DF.shape)\n",
        "\n",
        "print('Columns after handling nulls')\n",
        "print(so_DF.isnull().sum())"
      ],
      "metadata": {
        "id": "9BcZHGhqqopu",
        "colab": {
          "base_uri": "https://localhost:8080/"
        },
        "outputId": "dc91af02-96ef-4d11-c7f9-bad48806b2b1"
      },
      "execution_count": 11,
      "outputs": [
        {
          "output_type": "stream",
          "name": "stdout",
          "text": [
            "Columns after handling nulls\n",
            "lead                         0\n",
            "lead_source                  0\n",
            "legal_entity_type            0\n",
            "current_provider             0\n",
            "lead_status                  0\n",
            "status_reason                0\n",
            "currently_taking_payments    0\n",
            "ad_content                   0\n",
            "campaign                     0\n",
            "keyword                      0\n",
            "landing_page                 0\n",
            "medium                       0\n",
            "source                       0\n",
            "banked_customer              0\n",
            "dtype: int64\n"
          ]
        }
      ]
    },
    {
      "cell_type": "code",
      "source": [
        "cn_selected"
      ],
      "metadata": {
        "id": "PoUI2eCOzlyp"
      },
      "execution_count": null,
      "outputs": []
    },
    {
      "cell_type": "code",
      "source": [
        "so_DF['lead_status'].value_counts()"
      ],
      "metadata": {
        "id": "TtRm5vhJ2pd2",
        "colab": {
          "base_uri": "https://localhost:8080/"
        },
        "outputId": "dd2ec5ca-e2c9-4b95-ea43-b1d1a4b1656a"
      },
      "execution_count": null,
      "outputs": [
        {
          "output_type": "execute_result",
          "data": {
            "text/plain": [
              "Qualified       56832\n",
              "Disqualified    13945\n",
              "Name: lead_status, dtype: int64"
            ]
          },
          "metadata": {},
          "execution_count": 8
        }
      ]
    },
    {
      "cell_type": "code",
      "source": [
        "col_names = list(so_DF.columns)\n",
        "\n",
        "# Displaying selected columns\n",
        "for cn in col_names:\n",
        "  count = so_DF[cn].count()\n",
        "  nunique = so_DF[cn].nunique()\n",
        "  data_type = so_DF[cn].dtype\n",
        "\n",
        "  #if_cndt = (count > 0) and (count != nunique) and (data_type != 'datetime64[ns, UTC]')\n",
        "  #if if_cndt:\n",
        "  cntuple = (cn, count, nunique)\n",
        "  print(cntuple)"
      ],
      "metadata": {
        "colab": {
          "base_uri": "https://localhost:8080/"
        },
        "id": "i5sXtpTpP9IJ",
        "outputId": "9e0e1b21-68c8-42c9-f95d-b34cd84a20f6"
      },
      "execution_count": null,
      "outputs": [
        {
          "output_type": "stream",
          "name": "stdout",
          "text": [
            "('lead', 70777, 70777)\n",
            "('lead_source', 70777, 10)\n",
            "('legal_entity_type', 70777, 11)\n",
            "('current_provider', 70777, 26)\n",
            "('lead_status', 70777, 2)\n",
            "('status_reason', 70777, 30)\n",
            "('currently_taking_payments', 70777, 3)\n",
            "('ad_content', 70777, 141)\n",
            "('campaign', 70777, 92)\n",
            "('keyword', 70777, 321)\n",
            "('landing_page', 70777, 17)\n",
            "('medium', 70777, 27)\n",
            "('source', 70777, 22)\n",
            "('banked_customer', 70777, 3)\n"
          ]
        }
      ]
    },
    {
      "cell_type": "markdown",
      "source": [
        "###Encoding categorical columns"
      ],
      "metadata": {
        "id": "llXXtcDvm26_"
      }
    },
    {
      "cell_type": "code",
      "source": [
        "# Label Encoding y variable\n",
        "le = LabelEncoder()\n",
        "so_DF['lead_status_N'] = le.fit_transform(so_DF['lead_status'].values)\n",
        "\n",
        "X_var = ['lead_source', 'legal_entity_type', 'current_provider', 'status_reason', 'currently_taking_payments', 'ad_content', 'campaign', 'keyword', 'landing_page', 'medium', 'source', 'banked_customer']\n",
        "y_var = ['lead_status_N']\n",
        "X = so_DF[X_var]\n",
        "y = so_DF[y_var]\n",
        "\n",
        "# Binary Encoding X variables\n",
        "ce_be = ce.BinaryEncoder(cols = X_var)\n",
        "X = ce_be.fit_transform(X, y['lead_status_N'])"
      ],
      "metadata": {
        "id": "sUDIXPJ67rcZ"
      },
      "execution_count": 12,
      "outputs": []
    },
    {
      "cell_type": "markdown",
      "source": [
        "\n",
        "###Modelling with stratified sample of the data"
      ],
      "metadata": {
        "id": "LkOiXNztH_dk"
      }
    },
    {
      "cell_type": "code",
      "source": [
        "# Stratified sampling of X, y\n",
        "train_X, test_X, train_y, test_y = stratified_sampling(X, y, test_size=0.3)"
      ],
      "metadata": {
        "colab": {
          "base_uri": "https://localhost:8080/"
        },
        "id": "PsKGCJwPEk6S",
        "outputId": "9bdbf702-b00e-445d-ee12-3ec61ad69c2a"
      },
      "execution_count": null,
      "outputs": [
        {
          "output_type": "stream",
          "name": "stdout",
          "text": [
            "(49543, 61) (21234, 61)\n",
            "\n",
            "Number of rows in Train dataset: 49543\n",
            "1    39782\n",
            "0     9761\n",
            "Name: lead_status_N, dtype: int64\n",
            "\n",
            "Number of rows in Test dataset: 21234\n",
            "1    17050\n",
            "0     4184\n",
            "Name: lead_status_N, dtype: int64\n"
          ]
        }
      ]
    },
    {
      "cell_type": "code",
      "source": [
        "%%time\n",
        "params = {'max_depth': int(4), 'subsample': 0.9, 'objective': 'binary:logistic', 'n_estimators': 200, 'learning_rate': 0.1}\n",
        "model = XGB_Classifier_model(train_X, train_y, params)"
      ],
      "metadata": {
        "id": "Hb9dEjQ8Hjb1"
      },
      "execution_count": null,
      "outputs": []
    },
    {
      "cell_type": "code",
      "source": [
        "model_performance_metrics(model)"
      ],
      "metadata": {
        "colab": {
          "base_uri": "https://localhost:8080/",
          "height": 545
        },
        "id": "MUU-4mmCsmel",
        "outputId": "13f703a2-ab57-42ab-f561-78c9e2af341d"
      },
      "execution_count": null,
      "outputs": [
        {
          "output_type": "display_data",
          "data": {
            "text/plain": [
              "<Figure size 432x288 with 1 Axes>"
            ],
            "image/png": "[encoded data removed]"
          },
          "metadata": {
            "needs_background": "light"
          }
        },
        {
          "output_type": "display_data",
          "data": {
            "text/plain": [
              "<Figure size 432x288 with 1 Axes>"
            ],
            "image/png": "[encoded data removed]"
          },
          "metadata": {
            "needs_background": "light"
          }
        }
      ]
    },
    {
      "cell_type": "code",
      "source": [
        "predict_test_data(test_X, test_y)"
      ],
      "metadata": {
        "colab": {
          "base_uri": "https://localhost:8080/"
        },
        "id": "gpTxe1Ybquka",
        "outputId": "0142bcf4-d1da-416d-d762-4ccaa14085e2"
      },
      "execution_count": null,
      "outputs": [
        {
          "output_type": "stream",
          "name": "stdout",
          "text": [
            "              precision    recall  f1-score   support\n",
            "\n",
            "           0       1.00      1.00      1.00      4184\n",
            "           1       1.00      1.00      1.00     17050\n",
            "\n",
            "    accuracy                           1.00     21234\n",
            "   macro avg       1.00      1.00      1.00     21234\n",
            "weighted avg       1.00      1.00      1.00     21234\n",
            "\n"
          ]
        }
      ]
    },
    {
      "cell_type": "markdown",
      "source": [
        "###Modelling with balanced data"
      ],
      "metadata": {
        "id": "PivWDAs5Ll9R"
      }
    },
    {
      "cell_type": "markdown",
      "source": [
        "Balancing the data using SMOTETomek - Over-sampling using SMOTE and cleaning using Tomek links. Combine over- and under-sampling using SMOTE and Tomek links."
      ],
      "metadata": {
        "id": "oTi2ktGoL1T-"
      }
    },
    {
      "cell_type": "code",
      "source": [
        "X_resampled, y_resampled = balanced_sample(X, y, method='SMOTETomek')"
      ],
      "metadata": {
        "colab": {
          "base_uri": "https://localhost:8080/"
        },
        "id": "iBLgdJU4y4AZ",
        "outputId": "983bc5d7-77a7-42a2-e596-f41c217d8a1a"
      },
      "execution_count": null,
      "outputs": [
        {
          "output_type": "stream",
          "name": "stdout",
          "text": [
            "Before resampling:\n",
            " 1    56832\n",
            "0    13945\n",
            "Name: lead_status_N, dtype: int64\n",
            "After resampling:\n",
            " 1    56818\n",
            "0    56818\n",
            "Name: lead_status_N, dtype: int64\n"
          ]
        }
      ]
    },
    {
      "cell_type": "code",
      "source": [
        "# Stratified sampling of X, y\n",
        "train_X, test_X, train_y, test_y = stratified_sampling(X_resampled, y_resampled, test_size=0.3)"
      ],
      "metadata": {
        "colab": {
          "base_uri": "https://localhost:8080/"
        },
        "id": "VgUjzySv4F0c",
        "outputId": "90bc621a-9a9f-479c-a5fc-856b28638f7e"
      },
      "execution_count": null,
      "outputs": [
        {
          "output_type": "stream",
          "name": "stdout",
          "text": [
            "(79545, 61) (34091, 61)\n",
            "\n",
            "Number of rows in Train dataset: 79545\n",
            "1    39773\n",
            "0    39772\n",
            "Name: lead_status_N, dtype: int64\n",
            "\n",
            "Number of rows in Test dataset: 34091\n",
            "0    17046\n",
            "1    17045\n",
            "Name: lead_status_N, dtype: int64\n"
          ]
        }
      ]
    },
    {
      "cell_type": "code",
      "source": [
        "%%time\n",
        "params = {'max_depth': int(4), 'subsample': 0.9, 'objective': 'binary:logistic', 'n_estimators': 200, 'learning_rate': 0.1}\n",
        "model = XGB_Classifier_model(train_X, train_y, params)"
      ],
      "metadata": {
        "id": "T7lsQgYL8_UU"
      },
      "execution_count": null,
      "outputs": []
    },
    {
      "cell_type": "code",
      "source": [
        "model_performance_metrics(model)"
      ],
      "metadata": {
        "colab": {
          "base_uri": "https://localhost:8080/"
        },
        "id": "TX04nDO5PRGx",
        "outputId": "8c31bc25-d214-4dc5-ff75-133e4b2cf119"
      },
      "execution_count": null,
      "outputs": [
        {
          "output_type": "stream",
          "name": "stdout",
          "text": [
            "              precision    recall  f1-score   support\n",
            "\n",
            "           0       1.00      1.00      1.00     17046\n",
            "           1       1.00      1.00      1.00     17045\n",
            "\n",
            "    accuracy                           1.00     34091\n",
            "   macro avg       1.00      1.00      1.00     34091\n",
            "weighted avg       1.00      1.00      1.00     34091\n",
            "\n"
          ]
        }
      ]
    },
    {
      "cell_type": "code",
      "source": [
        "predict_test_data(test_X, test_y)"
      ],
      "metadata": {
        "id": "8_BvUKDGs7R9"
      },
      "execution_count": null,
      "outputs": []
    },
    {
      "cell_type": "markdown",
      "source": [
        "SMOTEENN - Over-sampling using SMOTE and cleaning using ENN. Combine over- and under-sampling using SMOTE and Edited Nearest Neighbours."
      ],
      "metadata": {
        "id": "kcSz9-aANJdr"
      }
    },
    {
      "cell_type": "code",
      "source": [
        "X_resampled, y_resampled = balanced_sample(X, y, method='SMOTEENN')"
      ],
      "metadata": {
        "id": "W4z-hI_RQfeO",
        "colab": {
          "base_uri": "https://localhost:8080/"
        },
        "outputId": "3398ebf4-82ef-468f-9ba8-ddbd1b7f9032"
      },
      "execution_count": null,
      "outputs": [
        {
          "output_type": "stream",
          "name": "stdout",
          "text": [
            "Before resampling:\n",
            " 1    56832\n",
            "0    13945\n",
            "Name: lead_status_N, dtype: int64\n",
            "After resampling:\n",
            " 1    56568\n",
            "0    56249\n",
            "Name: lead_status_N, dtype: int64\n"
          ]
        }
      ]
    },
    {
      "cell_type": "code",
      "source": [
        "# Stratified sampling of X, y\n",
        "train_X, test_X, train_y, test_y = stratified_sampling(X_resampled, y_resampled, test_size=0.3)"
      ],
      "metadata": {
        "id": "-z0yeOu0P2ai"
      },
      "execution_count": null,
      "outputs": []
    },
    {
      "cell_type": "code",
      "source": [
        "%%time\n",
        "params = {'max_depth': int(4), 'subsample': 0.9, 'objective': 'binary:logistic', 'n_estimators': 200, 'learning_rate': 0.1}\n",
        "model = XGB_Classifier_model(train_X, train_y, params)"
      ],
      "metadata": {
        "id": "CYXToY0IQMbM"
      },
      "execution_count": null,
      "outputs": []
    },
    {
      "cell_type": "code",
      "source": [
        "model_performance_metrics(model)"
      ],
      "metadata": {
        "id": "ynGVh9tGtHmH"
      },
      "execution_count": null,
      "outputs": []
    },
    {
      "cell_type": "code",
      "source": [
        "predict_test_data(test_X, test_y)"
      ],
      "metadata": {
        "id": "MvmJhUewQOhm"
      },
      "execution_count": null,
      "outputs": []
    },
    {
      "cell_type": "code",
      "source": [
        "confusion_matrix(predictions, test_y)"
      ],
      "metadata": {
        "colab": {
          "base_uri": "https://localhost:8080/"
        },
        "id": "VriFXyXu2wR0",
        "outputId": "1a4a885f-5e25-44ab-c7f5-1cd509e8ad2d"
      },
      "execution_count": null,
      "outputs": [
        {
          "output_type": "execute_result",
          "data": {
            "text/plain": [
              "array([[17014,     3],\n",
              "       [   27, 17038]])"
            ]
          },
          "metadata": {},
          "execution_count": 60
        }
      ]
    }
  ]
}