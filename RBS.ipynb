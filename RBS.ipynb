{
  "nbformat": 4,
  "nbformat_minor": 0,
  "metadata": {
    "colab": {
      "name": "RBS.ipynb",
      "provenance": [],
      "mount_file_id": "1a_niEDUMc7T4zoI0qLtBFD5DBRQkT-fl",
      "authorship_tag": "ABX9TyNbhKqGjFkttXKSnscagN2B",
      "include_colab_link": true
    },
    "kernelspec": {
      "name": "python3",
      "display_name": "Python 3"
    },
    "language_info": {
      "name": "python"
    }
  },
  "cells": [
    {
      "cell_type": "markdown",
      "metadata": {
        "id": "view-in-github",
        "colab_type": "text"
      },
      "source": [
        "<a href=\"https://colab.research.google.com/github/vaishnav711/sopt/blob/main/RBS.ipynb\" target=\"_parent\"><img src=\"https://colab.research.google.com/assets/colab-badge.svg\" alt=\"Open In Colab\"/></a>"
      ]
    },
    {
      "cell_type": "code",
      "source": [
        "pip install category_encoders xgboost"
      ],
      "metadata": {
        "id": "MKiza8vEKK3X"
      },
      "execution_count": null,
      "outputs": []
    },
    {
      "cell_type": "code",
      "source": [
        "from google.colab import drive\n",
        "import numpy as np\n",
        "import category_encoders as ce\n",
        "from sklearn.model_selection import train_test_split\n",
        "from sklearn.preprocessing import LabelEncoder \n",
        "from sklearn.metrics import *\n",
        "from matplotlib import pyplot\n",
        "import xgboost as xgb\n",
        "\n",
        "# Mount drive\n",
        "drive.mount('/content/drive')"
      ],
      "metadata": {
        "colab": {
          "base_uri": "https://localhost:8080/"
        },
        "id": "edfSQmvgoRwz",
        "outputId": "16854ea0-a7f4-4718-d455-213704a93f6f"
      },
      "execution_count": 13,
      "outputs": [
        {
          "output_type": "stream",
          "name": "stdout",
          "text": [
            "Drive already mounted at /content/drive; to attempt to forcibly remount, call drive.mount(\"/content/drive\", force_remount=True).\n"
          ]
        }
      ]
    },
    {
      "cell_type": "code",
      "source": [
        "import pandas as pd\n",
        "fpath = r'/content/drive/MyDrive/RBS/temp.feather'\n",
        "so_DF = pd.read_feather(fpath)\n",
        "\n",
        "# Dataframe with lead_status == 'Open'\n",
        "so_open_DF = so_DF.query(\"lead_status == 'Open'\")\n",
        "\n",
        "# Dataframe without lead_status as 'Open'\n",
        "so_DF = so_DF.query(\"lead_status != 'Open'\")\n",
        "\n",
        "print(so_DF.shape)"
      ],
      "metadata": {
        "id": "ft4YqWJpq3UO",
        "colab": {
          "base_uri": "https://localhost:8080/"
        },
        "outputId": "435b7d09-decd-41c0-a0f5-6d70260f9cae"
      },
      "execution_count": 4,
      "outputs": [
        {
          "output_type": "stream",
          "name": "stdout",
          "text": [
            "(70777, 28)\n"
          ]
        }
      ]
    },
    {
      "cell_type": "code",
      "source": [
        "print('No. of nulls in the dataset: ', so_DF.isnull().values.sum())\n",
        "\n",
        "print('\\nNulls in individual columns:')\n",
        "print(so_DF.isnull().sum())"
      ],
      "metadata": {
        "id": "ysGBBMs5PzYu"
      },
      "execution_count": null,
      "outputs": []
    },
    {
      "cell_type": "code",
      "source": [
        "# skip\n",
        "col_names = list(so_DF.columns)\n",
        "col_list = []\n",
        "for cn in col_names:\n",
        "  count = so_DF[cn].count()\n",
        "  nunique = so_DF[cn].nunique()\n",
        "  data_type = so_DF[cn].dtype\n",
        "\n",
        "  cntuple = (cn, count, nunique)\n",
        "  col_list.append(cntuple)\n",
        "  print(cntuple)"
      ],
      "metadata": {
        "id": "x5UGQNH60dca"
      },
      "execution_count": null,
      "outputs": []
    },
    {
      "cell_type": "code",
      "source": [
        "col_list = [('lead', 71138, 71138, True), ('do_not_modify_row_checksum', 71138, 71138, False), ('do_not_modify_modified_on', 0, 0, False), ('owner', 71138, 89, True),\n",
        " ('lead_source', 70302, 9, True), ('portfolio_id', 38369, 1744, False), ('created_on', 71138, 66250, False), ('lead_closed_date', 70777, 807, False),\n",
        " ('modified_on', 71138, 52484, False), ('rbs_bin', 51020, 44817, False), ('rbs_cin', 6642, 6492, False), ('merchant', 71113, 66278, False), ('trading_name', 1653, 1624, False),\n",
        " ('legal_entity_type', 64954, 10, True), ('current_provider', 24271, 26, True), ('mcc_code', 0, 0, False), ('lead_status', 71138, 3, True), ('status_reason', 71136, 30, True),\n",
        " ('lead_id', 0, 0, False), ('referral_id', 46537, 42687, False), ('currently_taking_payments', 31098, 3, True), ('ad_content', 6993, 140, True), ('campaign', 10470, 91, True),\n",
        " ('keyword', 3784, 320, True), ('landing_page', 10470, 16, True), ('medium', 10470, 26, True), ('source', 10468, 21, True), ('banked_customer', 60299, 3, True)]\n",
        "\n",
        "\n",
        "col_selected = []\n",
        "cn_selected = []\n",
        "for cl in col_list:\n",
        "  if cl[3] == True:\n",
        "    col_selected.append(cl)\n",
        "    cn_selected.append(cl[0])\n",
        "print(col_selected)\n",
        " \n",
        "so_DF = so_DF[cn_selected]"
      ],
      "metadata": {
        "colab": {
          "base_uri": "https://localhost:8080/"
        },
        "id": "jFcvUZ2m1BeD",
        "outputId": "ee3add6f-729e-415e-8f2d-e18017db1347"
      },
      "execution_count": 5,
      "outputs": [
        {
          "output_type": "stream",
          "name": "stdout",
          "text": [
            "[('lead', 71138, 71138, True), ('owner', 71138, 89, True), ('lead_source', 70302, 9, True), ('legal_entity_type', 64954, 10, True), ('current_provider', 24271, 26, True), ('lead_status', 71138, 3, True), ('status_reason', 71136, 30, True), ('currently_taking_payments', 31098, 3, True), ('ad_content', 6993, 140, True), ('campaign', 10470, 91, True), ('keyword', 3784, 320, True), ('landing_page', 10470, 16, True), ('medium', 10470, 26, True), ('source', 10468, 21, True), ('banked_customer', 60299, 3, True)]\n"
          ]
        }
      ]
    },
    {
      "cell_type": "code",
      "source": [
        "#print(so_DF.shape)\n",
        "#so_DF = so_DF.replace(to_replace='None', value=np.nan).dropna()\n",
        "#so_DF = so_DF.dropna(axis=0, how='any')\n",
        "\n",
        "so_DF = so_DF.replace(to_replace=np.nan, value='Unknown')\n",
        "so_DF = so_DF.replace(to_replace='NULL', value='Unknown')\n",
        "#print(so_DF.shape)\n",
        "\n",
        "print('Columns after handling nulls')\n",
        "print(so_DF.isnull().sum())"
      ],
      "metadata": {
        "id": "9BcZHGhqqopu"
      },
      "execution_count": null,
      "outputs": []
    },
    {
      "cell_type": "code",
      "source": [
        "cn_selected"
      ],
      "metadata": {
        "id": "PoUI2eCOzlyp"
      },
      "execution_count": null,
      "outputs": []
    },
    {
      "cell_type": "code",
      "source": [
        "so_DF['lead_status'].value_counts()"
      ],
      "metadata": {
        "id": "TtRm5vhJ2pd2",
        "colab": {
          "base_uri": "https://localhost:8080/"
        },
        "outputId": "1822b497-eabc-4bce-83db-71a599609918"
      },
      "execution_count": null,
      "outputs": [
        {
          "output_type": "execute_result",
          "data": {
            "text/plain": [
              "Qualified       56832\n",
              "Disqualified    13945\n",
              "Name: lead_status, dtype: int64"
            ]
          },
          "metadata": {},
          "execution_count": 48
        }
      ]
    },
    {
      "cell_type": "code",
      "source": [
        "col_names = list(so_DF.columns)\n",
        "\n",
        "for cn in col_names:\n",
        "  count = so_DF[cn].count()\n",
        "  nunique = so_DF[cn].nunique()\n",
        "  data_type = so_DF[cn].dtype\n",
        "\n",
        "  #if_cndt = (count > 0) and (count != nunique) and (data_type != 'datetime64[ns, UTC]')\n",
        "  #if if_cndt:\n",
        "  cntuple = (cn, count, nunique)\n",
        "  print(cntuple)"
      ],
      "metadata": {
        "colab": {
          "base_uri": "https://localhost:8080/"
        },
        "id": "i5sXtpTpP9IJ",
        "outputId": "443ed8c9-086a-49aa-8599-fc39c3621de0"
      },
      "execution_count": null,
      "outputs": [
        {
          "output_type": "stream",
          "name": "stdout",
          "text": [
            "('lead', 70777, 70777)\n",
            "('owner', 70777, 87)\n",
            "('lead_source', 70777, 10)\n",
            "('legal_entity_type', 70777, 11)\n",
            "('current_provider', 70777, 26)\n",
            "('lead_status', 70777, 2)\n",
            "('status_reason', 70777, 30)\n",
            "('currently_taking_payments', 70777, 3)\n",
            "('ad_content', 70777, 141)\n",
            "('campaign', 70777, 92)\n",
            "('keyword', 70777, 321)\n",
            "('landing_page', 70777, 17)\n",
            "('medium', 70777, 27)\n",
            "('source', 70777, 22)\n",
            "('banked_customer', 70777, 3)\n"
          ]
        }
      ]
    },
    {
      "cell_type": "code",
      "source": [
        "# Label Encoding y variable\n",
        "le = LabelEncoder()\n",
        "so_DF['lead_status_N'] = le.fit_transform(so_DF['lead_status'].values)\n",
        "\n",
        "X_var = ['owner', 'lead_source', 'legal_entity_type', 'current_provider', 'status_reason', 'currently_taking_payments', 'ad_content', 'campaign', 'keyword', 'landing_page', 'medium', 'source', 'banked_customer']\n",
        "y_var = ['lead_status_N']\n",
        "X = so_DF[X_var]\n",
        "y = so_DF[y_var]\n",
        "\n",
        "# Binary Encoding X variables\n",
        "ce_be = ce.BinaryEncoder(cols = X_var)\n",
        "X = ce_be.fit_transform(X, y['lead_status_N'])\n",
        "\n",
        "train_X, test_X, train_y, test_y = train_test_split(X, y, test_size=0.3, stratify=y, random_state=123)\n",
        "\n",
        "print(train_X.shape, test_X.shape)\n",
        "print()\n",
        "print(f'Number of rows in Train dataset: {train_X.shape[0]}')\n",
        "print(train_y['lead_status_N'].value_counts())\n",
        "print()\n",
        "print(f'Number of rows in Test dataset: {test_X.shape[0]}')\n",
        "print(test_y['lead_status_N'].value_counts())"
      ],
      "metadata": {
        "id": "sUDIXPJ67rcZ",
        "colab": {
          "base_uri": "https://localhost:8080/"
        },
        "outputId": "3f69ad6e-e757-490b-cb02-4500e163e69b"
      },
      "execution_count": 7,
      "outputs": [
        {
          "output_type": "stream",
          "name": "stdout",
          "text": [
            "(49543, 70) (21234, 70)\n",
            "\n",
            "Number of rows in Train dataset: 49543\n",
            "1    39782\n",
            "0     9761\n",
            "Name: lead_status_N, dtype: int64\n",
            "\n",
            "Number of rows in Test dataset: 21234\n",
            "1    17050\n",
            "0     4184\n",
            "Name: lead_status_N, dtype: int64\n"
          ]
        }
      ]
    },
    {
      "cell_type": "code",
      "source": [
        "%%time\n",
        "\n",
        "model = xgb.XGBClassifier(max_depth=4,\n",
        "                        subsample=0.9,\n",
        "                        objective='binary:logistic',\n",
        "                        n_estimators=200,\n",
        "                        learning_rate = 0.1)\n",
        "eval_set = [(train_X, train_y), (test_X, test_y)]\n",
        "model.fit(train_X, train_y.values.ravel(), early_stopping_rounds=10, eval_metric=[\"error\", \"logloss\"], eval_set=eval_set, verbose=True)"
      ],
      "metadata": {
        "id": "goY3s-hhpPTY",
        "colab": {
          "base_uri": "https://localhost:8080/"
        },
        "outputId": "590a54a7-f6c9-46f7-a2d9-06acf961fa6e"
      },
      "execution_count": 8,
      "outputs": [
        {
          "output_type": "stream",
          "name": "stderr",
          "text": [
            "/usr/local/lib/python3.7/dist-packages/sklearn/preprocessing/_label.py:133: DataConversionWarning: A column-vector y was passed when a 1d array was expected. Please change the shape of y to (n_samples, ), for example using ravel().\n",
            "  y = column_or_1d(y, warn=True)\n"
          ]
        },
        {
          "output_type": "stream",
          "name": "stdout",
          "text": [
            "[0]\tvalidation_0-error:0.00327\tvalidation_0-logloss:0.599625\tvalidation_1-error:0.00405\tvalidation_1-logloss:0.59958\n",
            "Multiple eval metrics have been passed: 'validation_1-logloss' will be used for early stopping.\n",
            "\n",
            "Will train until validation_1-logloss hasn't improved in 10 rounds.\n",
            "[1]\tvalidation_0-error:0.00327\tvalidation_0-logloss:0.522081\tvalidation_1-error:0.00405\tvalidation_1-logloss:0.522292\n",
            "[2]\tvalidation_0-error:0.001756\tvalidation_0-logloss:0.457643\tvalidation_1-error:0.002308\tvalidation_1-logloss:0.457759\n",
            "[3]\tvalidation_0-error:0.001756\tvalidation_0-logloss:0.40276\tvalidation_1-error:0.002308\tvalidation_1-logloss:0.403218\n",
            "[4]\tvalidation_0-error:0.001756\tvalidation_0-logloss:0.356394\tvalidation_1-error:0.002308\tvalidation_1-logloss:0.356521\n",
            "[5]\tvalidation_0-error:0\tvalidation_0-logloss:0.31642\tvalidation_1-error:0\tvalidation_1-logloss:0.31657\n",
            "[6]\tvalidation_0-error:0.001756\tvalidation_0-logloss:0.281493\tvalidation_1-error:0.002308\tvalidation_1-logloss:0.2818\n",
            "[7]\tvalidation_0-error:0\tvalidation_0-logloss:0.251049\tvalidation_1-error:0\tvalidation_1-logloss:0.251206\n",
            "[8]\tvalidation_0-error:0\tvalidation_0-logloss:0.22439\tvalidation_1-error:0\tvalidation_1-logloss:0.224567\n",
            "[9]\tvalidation_0-error:0\tvalidation_0-logloss:0.200773\tvalidation_1-error:0\tvalidation_1-logloss:0.20108\n",
            "[10]\tvalidation_0-error:0\tvalidation_0-logloss:0.180128\tvalidation_1-error:0\tvalidation_1-logloss:0.18038\n",
            "[11]\tvalidation_0-error:0\tvalidation_0-logloss:0.161643\tvalidation_1-error:0\tvalidation_1-logloss:0.161943\n",
            "[12]\tvalidation_0-error:0\tvalidation_0-logloss:0.14538\tvalidation_1-error:0\tvalidation_1-logloss:0.145636\n",
            "[13]\tvalidation_0-error:0\tvalidation_0-logloss:0.130831\tvalidation_1-error:0\tvalidation_1-logloss:0.131049\n",
            "[14]\tvalidation_0-error:0\tvalidation_0-logloss:0.117797\tvalidation_1-error:0\tvalidation_1-logloss:0.118091\n",
            "[15]\tvalidation_0-error:0\tvalidation_0-logloss:0.106266\tvalidation_1-error:0\tvalidation_1-logloss:0.106478\n",
            "[16]\tvalidation_0-error:0\tvalidation_0-logloss:0.095884\tvalidation_1-error:0\tvalidation_1-logloss:0.096131\n",
            "[17]\tvalidation_0-error:0\tvalidation_0-logloss:0.086578\tvalidation_1-error:0\tvalidation_1-logloss:0.086818\n",
            "[18]\tvalidation_0-error:0\tvalidation_0-logloss:0.078262\tvalidation_1-error:0\tvalidation_1-logloss:0.078514\n",
            "[19]\tvalidation_0-error:0\tvalidation_0-logloss:0.070705\tvalidation_1-error:0\tvalidation_1-logloss:0.070946\n",
            "[20]\tvalidation_0-error:0\tvalidation_0-logloss:0.064035\tvalidation_1-error:0\tvalidation_1-logloss:0.06424\n",
            "[21]\tvalidation_0-error:0\tvalidation_0-logloss:0.057933\tvalidation_1-error:0\tvalidation_1-logloss:0.058187\n",
            "[22]\tvalidation_0-error:0\tvalidation_0-logloss:0.052521\tvalidation_1-error:0\tvalidation_1-logloss:0.052715\n",
            "[23]\tvalidation_0-error:0\tvalidation_0-logloss:0.047372\tvalidation_1-error:0\tvalidation_1-logloss:0.047561\n",
            "[24]\tvalidation_0-error:0\tvalidation_0-logloss:0.042762\tvalidation_1-error:0\tvalidation_1-logloss:0.042925\n",
            "[25]\tvalidation_0-error:0\tvalidation_0-logloss:0.038613\tvalidation_1-error:0\tvalidation_1-logloss:0.038743\n",
            "[26]\tvalidation_0-error:0\tvalidation_0-logloss:0.034874\tvalidation_1-error:0\tvalidation_1-logloss:0.035001\n",
            "[27]\tvalidation_0-error:0\tvalidation_0-logloss:0.031499\tvalidation_1-error:0\tvalidation_1-logloss:0.031613\n",
            "[28]\tvalidation_0-error:0\tvalidation_0-logloss:0.028464\tvalidation_1-error:0\tvalidation_1-logloss:0.028562\n",
            "[29]\tvalidation_0-error:0\tvalidation_0-logloss:0.025716\tvalidation_1-error:0\tvalidation_1-logloss:0.02581\n",
            "[30]\tvalidation_0-error:0\tvalidation_0-logloss:0.023254\tvalidation_1-error:0\tvalidation_1-logloss:0.023335\n",
            "[31]\tvalidation_0-error:0\tvalidation_0-logloss:0.021019\tvalidation_1-error:0\tvalidation_1-logloss:0.021101\n",
            "[32]\tvalidation_0-error:0\tvalidation_0-logloss:0.019009\tvalidation_1-error:0\tvalidation_1-logloss:0.019079\n",
            "[33]\tvalidation_0-error:0\tvalidation_0-logloss:0.017196\tvalidation_1-error:0\tvalidation_1-logloss:0.017257\n",
            "[34]\tvalidation_0-error:0\tvalidation_0-logloss:0.015546\tvalidation_1-error:0\tvalidation_1-logloss:0.015616\n",
            "[35]\tvalidation_0-error:0\tvalidation_0-logloss:0.014073\tvalidation_1-error:0\tvalidation_1-logloss:0.014127\n",
            "[36]\tvalidation_0-error:0\tvalidation_0-logloss:0.012728\tvalidation_1-error:0\tvalidation_1-logloss:0.012784\n",
            "[37]\tvalidation_0-error:0\tvalidation_0-logloss:0.011519\tvalidation_1-error:0\tvalidation_1-logloss:0.011575\n",
            "[38]\tvalidation_0-error:0\tvalidation_0-logloss:0.010427\tvalidation_1-error:0\tvalidation_1-logloss:0.01048\n",
            "[39]\tvalidation_0-error:0\tvalidation_0-logloss:0.009445\tvalidation_1-error:0\tvalidation_1-logloss:0.009487\n",
            "[40]\tvalidation_0-error:0\tvalidation_0-logloss:0.008551\tvalidation_1-error:0\tvalidation_1-logloss:0.008595\n",
            "[41]\tvalidation_0-error:0\tvalidation_0-logloss:0.007742\tvalidation_1-error:0\tvalidation_1-logloss:0.007784\n",
            "[42]\tvalidation_0-error:0\tvalidation_0-logloss:0.007015\tvalidation_1-error:0\tvalidation_1-logloss:0.007055\n",
            "[43]\tvalidation_0-error:0\tvalidation_0-logloss:0.006357\tvalidation_1-error:0\tvalidation_1-logloss:0.006394\n",
            "[44]\tvalidation_0-error:0\tvalidation_0-logloss:0.005762\tvalidation_1-error:0\tvalidation_1-logloss:0.0058\n",
            "[45]\tvalidation_0-error:0\tvalidation_0-logloss:0.005222\tvalidation_1-error:0\tvalidation_1-logloss:0.005261\n",
            "[46]\tvalidation_0-error:0\tvalidation_0-logloss:0.004737\tvalidation_1-error:0\tvalidation_1-logloss:0.004772\n",
            "[47]\tvalidation_0-error:0\tvalidation_0-logloss:0.004299\tvalidation_1-error:0\tvalidation_1-logloss:0.004333\n",
            "[48]\tvalidation_0-error:0\tvalidation_0-logloss:0.003919\tvalidation_1-error:0\tvalidation_1-logloss:0.00395\n",
            "[49]\tvalidation_0-error:0\tvalidation_0-logloss:0.003559\tvalidation_1-error:0\tvalidation_1-logloss:0.003588\n",
            "[50]\tvalidation_0-error:0\tvalidation_0-logloss:0.003231\tvalidation_1-error:0\tvalidation_1-logloss:0.00326\n",
            "[51]\tvalidation_0-error:0\tvalidation_0-logloss:0.002936\tvalidation_1-error:0\tvalidation_1-logloss:0.002966\n",
            "[52]\tvalidation_0-error:0\tvalidation_0-logloss:0.002666\tvalidation_1-error:0\tvalidation_1-logloss:0.002698\n",
            "[53]\tvalidation_0-error:0\tvalidation_0-logloss:0.002424\tvalidation_1-error:0\tvalidation_1-logloss:0.002457\n",
            "[54]\tvalidation_0-error:0\tvalidation_0-logloss:0.002217\tvalidation_1-error:0\tvalidation_1-logloss:0.002249\n",
            "[55]\tvalidation_0-error:0\tvalidation_0-logloss:0.002019\tvalidation_1-error:0\tvalidation_1-logloss:0.00205\n",
            "[56]\tvalidation_0-error:2e-05\tvalidation_0-logloss:0.001837\tvalidation_1-error:4.7e-05\tvalidation_1-logloss:0.001869\n",
            "[57]\tvalidation_0-error:0\tvalidation_0-logloss:0.001682\tvalidation_1-error:0\tvalidation_1-logloss:0.001714\n",
            "[58]\tvalidation_0-error:0\tvalidation_0-logloss:0.001541\tvalidation_1-error:0\tvalidation_1-logloss:0.00157\n",
            "[59]\tvalidation_0-error:0\tvalidation_0-logloss:0.001405\tvalidation_1-error:0\tvalidation_1-logloss:0.001434\n",
            "[60]\tvalidation_0-error:2e-05\tvalidation_0-logloss:0.001282\tvalidation_1-error:4.7e-05\tvalidation_1-logloss:0.001313\n",
            "[61]\tvalidation_0-error:0\tvalidation_0-logloss:0.00118\tvalidation_1-error:0\tvalidation_1-logloss:0.001209\n",
            "[62]\tvalidation_0-error:0\tvalidation_0-logloss:0.001084\tvalidation_1-error:0\tvalidation_1-logloss:0.001113\n",
            "[63]\tvalidation_0-error:0\tvalidation_0-logloss:0.000999\tvalidation_1-error:0\tvalidation_1-logloss:0.001025\n",
            "[64]\tvalidation_0-error:0\tvalidation_0-logloss:0.000913\tvalidation_1-error:0\tvalidation_1-logloss:0.00094\n",
            "[65]\tvalidation_0-error:0\tvalidation_0-logloss:0.000837\tvalidation_1-error:0\tvalidation_1-logloss:0.000865\n",
            "[66]\tvalidation_0-error:2e-05\tvalidation_0-logloss:0.000769\tvalidation_1-error:4.7e-05\tvalidation_1-logloss:0.000798\n",
            "[67]\tvalidation_0-error:2e-05\tvalidation_0-logloss:0.000706\tvalidation_1-error:4.7e-05\tvalidation_1-logloss:0.000736\n",
            "[68]\tvalidation_0-error:2e-05\tvalidation_0-logloss:0.000653\tvalidation_1-error:4.7e-05\tvalidation_1-logloss:0.000681\n",
            "[69]\tvalidation_0-error:2e-05\tvalidation_0-logloss:0.000607\tvalidation_1-error:4.7e-05\tvalidation_1-logloss:0.000636\n",
            "[70]\tvalidation_0-error:2e-05\tvalidation_0-logloss:0.000569\tvalidation_1-error:4.7e-05\tvalidation_1-logloss:0.000596\n",
            "[71]\tvalidation_0-error:2e-05\tvalidation_0-logloss:0.000526\tvalidation_1-error:4.7e-05\tvalidation_1-logloss:0.000554\n",
            "[72]\tvalidation_0-error:2e-05\tvalidation_0-logloss:0.000495\tvalidation_1-error:4.7e-05\tvalidation_1-logloss:0.000522\n",
            "[73]\tvalidation_0-error:2e-05\tvalidation_0-logloss:0.000464\tvalidation_1-error:4.7e-05\tvalidation_1-logloss:0.000492\n",
            "[74]\tvalidation_0-error:2e-05\tvalidation_0-logloss:0.000435\tvalidation_1-error:4.7e-05\tvalidation_1-logloss:0.000464\n",
            "[75]\tvalidation_0-error:2e-05\tvalidation_0-logloss:0.000412\tvalidation_1-error:4.7e-05\tvalidation_1-logloss:0.000441\n",
            "[76]\tvalidation_0-error:2e-05\tvalidation_0-logloss:0.000388\tvalidation_1-error:4.7e-05\tvalidation_1-logloss:0.000418\n",
            "[77]\tvalidation_0-error:2e-05\tvalidation_0-logloss:0.000369\tvalidation_1-error:4.7e-05\tvalidation_1-logloss:0.000398\n",
            "[78]\tvalidation_0-error:2e-05\tvalidation_0-logloss:0.000349\tvalidation_1-error:4.7e-05\tvalidation_1-logloss:0.000379\n",
            "[79]\tvalidation_0-error:2e-05\tvalidation_0-logloss:0.000331\tvalidation_1-error:4.7e-05\tvalidation_1-logloss:0.000361\n",
            "[80]\tvalidation_0-error:2e-05\tvalidation_0-logloss:0.000317\tvalidation_1-error:4.7e-05\tvalidation_1-logloss:0.000346\n",
            "[81]\tvalidation_0-error:2e-05\tvalidation_0-logloss:0.000301\tvalidation_1-error:4.7e-05\tvalidation_1-logloss:0.000331\n",
            "[82]\tvalidation_0-error:2e-05\tvalidation_0-logloss:0.000289\tvalidation_1-error:4.7e-05\tvalidation_1-logloss:0.000318\n",
            "[83]\tvalidation_0-error:2e-05\tvalidation_0-logloss:0.000277\tvalidation_1-error:4.7e-05\tvalidation_1-logloss:0.000306\n",
            "[84]\tvalidation_0-error:2e-05\tvalidation_0-logloss:0.000267\tvalidation_1-error:4.7e-05\tvalidation_1-logloss:0.000296\n",
            "[85]\tvalidation_0-error:0\tvalidation_0-logloss:0.000256\tvalidation_1-error:0\tvalidation_1-logloss:0.000284\n",
            "[86]\tvalidation_0-error:0\tvalidation_0-logloss:0.000248\tvalidation_1-error:0\tvalidation_1-logloss:0.000275\n",
            "[87]\tvalidation_0-error:0\tvalidation_0-logloss:0.00024\tvalidation_1-error:0\tvalidation_1-logloss:0.000267\n",
            "[88]\tvalidation_0-error:0\tvalidation_0-logloss:0.000229\tvalidation_1-error:0\tvalidation_1-logloss:0.000257\n",
            "[89]\tvalidation_0-error:0\tvalidation_0-logloss:0.000221\tvalidation_1-error:0\tvalidation_1-logloss:0.000248\n",
            "[90]\tvalidation_0-error:0\tvalidation_0-logloss:0.000217\tvalidation_1-error:0\tvalidation_1-logloss:0.000243\n",
            "[91]\tvalidation_0-error:0\tvalidation_0-logloss:0.000211\tvalidation_1-error:0\tvalidation_1-logloss:0.000237\n",
            "[92]\tvalidation_0-error:0\tvalidation_0-logloss:0.000206\tvalidation_1-error:0\tvalidation_1-logloss:0.000233\n",
            "[93]\tvalidation_0-error:0\tvalidation_0-logloss:0.000202\tvalidation_1-error:0\tvalidation_1-logloss:0.000229\n",
            "[94]\tvalidation_0-error:0\tvalidation_0-logloss:0.000199\tvalidation_1-error:0\tvalidation_1-logloss:0.000225\n",
            "[95]\tvalidation_0-error:0\tvalidation_0-logloss:0.000193\tvalidation_1-error:0\tvalidation_1-logloss:0.00022\n",
            "[96]\tvalidation_0-error:0\tvalidation_0-logloss:0.00019\tvalidation_1-error:0\tvalidation_1-logloss:0.000217\n",
            "[97]\tvalidation_0-error:0\tvalidation_0-logloss:0.000187\tvalidation_1-error:0\tvalidation_1-logloss:0.000213\n",
            "[98]\tvalidation_0-error:0\tvalidation_0-logloss:0.000184\tvalidation_1-error:0\tvalidation_1-logloss:0.00021\n",
            "[99]\tvalidation_0-error:0\tvalidation_0-logloss:0.000179\tvalidation_1-error:0\tvalidation_1-logloss:0.000206\n",
            "[100]\tvalidation_0-error:0\tvalidation_0-logloss:0.000177\tvalidation_1-error:0\tvalidation_1-logloss:0.000203\n",
            "[101]\tvalidation_0-error:0\tvalidation_0-logloss:0.000174\tvalidation_1-error:0\tvalidation_1-logloss:0.0002\n",
            "[102]\tvalidation_0-error:0\tvalidation_0-logloss:0.000172\tvalidation_1-error:0\tvalidation_1-logloss:0.000198\n",
            "[103]\tvalidation_0-error:0\tvalidation_0-logloss:0.00017\tvalidation_1-error:0\tvalidation_1-logloss:0.000195\n",
            "[104]\tvalidation_0-error:0\tvalidation_0-logloss:0.000168\tvalidation_1-error:0\tvalidation_1-logloss:0.000193\n",
            "[105]\tvalidation_0-error:0\tvalidation_0-logloss:0.000167\tvalidation_1-error:0\tvalidation_1-logloss:0.000193\n",
            "[106]\tvalidation_0-error:0\tvalidation_0-logloss:0.000166\tvalidation_1-error:0\tvalidation_1-logloss:0.000192\n",
            "[107]\tvalidation_0-error:0\tvalidation_0-logloss:0.000165\tvalidation_1-error:0\tvalidation_1-logloss:0.000191\n",
            "[108]\tvalidation_0-error:0\tvalidation_0-logloss:0.000164\tvalidation_1-error:0\tvalidation_1-logloss:0.000191\n",
            "[109]\tvalidation_0-error:0\tvalidation_0-logloss:0.000163\tvalidation_1-error:0\tvalidation_1-logloss:0.00019\n",
            "[110]\tvalidation_0-error:0\tvalidation_0-logloss:0.000163\tvalidation_1-error:0\tvalidation_1-logloss:0.000189\n",
            "[111]\tvalidation_0-error:0\tvalidation_0-logloss:0.000162\tvalidation_1-error:0\tvalidation_1-logloss:0.000188\n",
            "[112]\tvalidation_0-error:0\tvalidation_0-logloss:0.00016\tvalidation_1-error:0\tvalidation_1-logloss:0.000186\n",
            "[113]\tvalidation_0-error:0\tvalidation_0-logloss:0.000159\tvalidation_1-error:0\tvalidation_1-logloss:0.000186\n",
            "[114]\tvalidation_0-error:0\tvalidation_0-logloss:0.000159\tvalidation_1-error:0\tvalidation_1-logloss:0.000185\n",
            "[115]\tvalidation_0-error:0\tvalidation_0-logloss:0.000158\tvalidation_1-error:0\tvalidation_1-logloss:0.000185\n",
            "[116]\tvalidation_0-error:0\tvalidation_0-logloss:0.000158\tvalidation_1-error:0\tvalidation_1-logloss:0.000185\n",
            "[117]\tvalidation_0-error:0\tvalidation_0-logloss:0.000157\tvalidation_1-error:0\tvalidation_1-logloss:0.000184\n",
            "[118]\tvalidation_0-error:0\tvalidation_0-logloss:0.000157\tvalidation_1-error:0\tvalidation_1-logloss:0.000184\n",
            "[119]\tvalidation_0-error:0\tvalidation_0-logloss:0.000157\tvalidation_1-error:0\tvalidation_1-logloss:0.000184\n",
            "[120]\tvalidation_0-error:0\tvalidation_0-logloss:0.000156\tvalidation_1-error:0\tvalidation_1-logloss:0.000183\n",
            "[121]\tvalidation_0-error:0\tvalidation_0-logloss:0.000156\tvalidation_1-error:0\tvalidation_1-logloss:0.000183\n",
            "[122]\tvalidation_0-error:0\tvalidation_0-logloss:0.000156\tvalidation_1-error:0\tvalidation_1-logloss:0.000183\n",
            "[123]\tvalidation_0-error:0\tvalidation_0-logloss:0.000155\tvalidation_1-error:0\tvalidation_1-logloss:0.000183\n",
            "[124]\tvalidation_0-error:0\tvalidation_0-logloss:0.000155\tvalidation_1-error:0\tvalidation_1-logloss:0.000182\n",
            "[125]\tvalidation_0-error:0\tvalidation_0-logloss:0.000155\tvalidation_1-error:0\tvalidation_1-logloss:0.000182\n",
            "[126]\tvalidation_0-error:0\tvalidation_0-logloss:0.000153\tvalidation_1-error:0\tvalidation_1-logloss:0.000181\n",
            "[127]\tvalidation_0-error:0\tvalidation_0-logloss:0.000153\tvalidation_1-error:0\tvalidation_1-logloss:0.00018\n",
            "[128]\tvalidation_0-error:0\tvalidation_0-logloss:0.000153\tvalidation_1-error:0\tvalidation_1-logloss:0.00018\n",
            "[129]\tvalidation_0-error:0\tvalidation_0-logloss:0.000152\tvalidation_1-error:0\tvalidation_1-logloss:0.00018\n",
            "[130]\tvalidation_0-error:0\tvalidation_0-logloss:0.000152\tvalidation_1-error:0\tvalidation_1-logloss:0.000179\n",
            "[131]\tvalidation_0-error:0\tvalidation_0-logloss:0.000152\tvalidation_1-error:0\tvalidation_1-logloss:0.000179\n",
            "[132]\tvalidation_0-error:0\tvalidation_0-logloss:0.000152\tvalidation_1-error:0\tvalidation_1-logloss:0.000179\n",
            "[133]\tvalidation_0-error:0\tvalidation_0-logloss:0.000151\tvalidation_1-error:0\tvalidation_1-logloss:0.000178\n",
            "[134]\tvalidation_0-error:0\tvalidation_0-logloss:0.000151\tvalidation_1-error:0\tvalidation_1-logloss:0.000178\n",
            "[135]\tvalidation_0-error:0\tvalidation_0-logloss:0.000151\tvalidation_1-error:0\tvalidation_1-logloss:0.000178\n",
            "[136]\tvalidation_0-error:0\tvalidation_0-logloss:0.000151\tvalidation_1-error:0\tvalidation_1-logloss:0.000177\n",
            "[137]\tvalidation_0-error:0\tvalidation_0-logloss:0.00015\tvalidation_1-error:0\tvalidation_1-logloss:0.000177\n",
            "[138]\tvalidation_0-error:0\tvalidation_0-logloss:0.00015\tvalidation_1-error:0\tvalidation_1-logloss:0.000177\n",
            "[139]\tvalidation_0-error:0\tvalidation_0-logloss:0.00015\tvalidation_1-error:0\tvalidation_1-logloss:0.000176\n",
            "[140]\tvalidation_0-error:0\tvalidation_0-logloss:0.00015\tvalidation_1-error:0\tvalidation_1-logloss:0.000176\n",
            "[141]\tvalidation_0-error:0\tvalidation_0-logloss:0.000148\tvalidation_1-error:0\tvalidation_1-logloss:0.000174\n",
            "[142]\tvalidation_0-error:0\tvalidation_0-logloss:0.000148\tvalidation_1-error:0\tvalidation_1-logloss:0.000174\n",
            "[143]\tvalidation_0-error:0\tvalidation_0-logloss:0.000148\tvalidation_1-error:0\tvalidation_1-logloss:0.000174\n",
            "[144]\tvalidation_0-error:0\tvalidation_0-logloss:0.000148\tvalidation_1-error:0\tvalidation_1-logloss:0.000174\n",
            "[145]\tvalidation_0-error:0\tvalidation_0-logloss:0.000148\tvalidation_1-error:0\tvalidation_1-logloss:0.000174\n",
            "[146]\tvalidation_0-error:0\tvalidation_0-logloss:0.000148\tvalidation_1-error:0\tvalidation_1-logloss:0.000173\n",
            "[147]\tvalidation_0-error:0\tvalidation_0-logloss:0.000147\tvalidation_1-error:0\tvalidation_1-logloss:0.000173\n",
            "[148]\tvalidation_0-error:0\tvalidation_0-logloss:0.000147\tvalidation_1-error:0\tvalidation_1-logloss:0.000173\n",
            "[149]\tvalidation_0-error:0\tvalidation_0-logloss:0.000147\tvalidation_1-error:0\tvalidation_1-logloss:0.000172\n",
            "[150]\tvalidation_0-error:0\tvalidation_0-logloss:0.000147\tvalidation_1-error:0\tvalidation_1-logloss:0.000172\n",
            "[151]\tvalidation_0-error:0\tvalidation_0-logloss:0.000147\tvalidation_1-error:0\tvalidation_1-logloss:0.000172\n",
            "[152]\tvalidation_0-error:0\tvalidation_0-logloss:0.000147\tvalidation_1-error:0\tvalidation_1-logloss:0.000172\n",
            "[153]\tvalidation_0-error:0\tvalidation_0-logloss:0.000146\tvalidation_1-error:0\tvalidation_1-logloss:0.000172\n",
            "[154]\tvalidation_0-error:0\tvalidation_0-logloss:0.000146\tvalidation_1-error:0\tvalidation_1-logloss:0.000172\n",
            "[155]\tvalidation_0-error:0\tvalidation_0-logloss:0.000146\tvalidation_1-error:0\tvalidation_1-logloss:0.000172\n",
            "[156]\tvalidation_0-error:0\tvalidation_0-logloss:0.000146\tvalidation_1-error:0\tvalidation_1-logloss:0.000172\n",
            "[157]\tvalidation_0-error:0\tvalidation_0-logloss:0.000146\tvalidation_1-error:0\tvalidation_1-logloss:0.000172\n",
            "[158]\tvalidation_0-error:0\tvalidation_0-logloss:0.000146\tvalidation_1-error:0\tvalidation_1-logloss:0.000172\n",
            "[159]\tvalidation_0-error:0\tvalidation_0-logloss:0.000146\tvalidation_1-error:0\tvalidation_1-logloss:0.000171\n",
            "[160]\tvalidation_0-error:0\tvalidation_0-logloss:0.000146\tvalidation_1-error:0\tvalidation_1-logloss:0.000172\n",
            "[161]\tvalidation_0-error:0\tvalidation_0-logloss:0.000146\tvalidation_1-error:0\tvalidation_1-logloss:0.000171\n",
            "[162]\tvalidation_0-error:0\tvalidation_0-logloss:0.000145\tvalidation_1-error:0\tvalidation_1-logloss:0.000171\n",
            "[163]\tvalidation_0-error:0\tvalidation_0-logloss:0.000145\tvalidation_1-error:0\tvalidation_1-logloss:0.000171\n",
            "[164]\tvalidation_0-error:0\tvalidation_0-logloss:0.000145\tvalidation_1-error:0\tvalidation_1-logloss:0.000171\n",
            "[165]\tvalidation_0-error:0\tvalidation_0-logloss:0.000145\tvalidation_1-error:0\tvalidation_1-logloss:0.000171\n",
            "[166]\tvalidation_0-error:0\tvalidation_0-logloss:0.000145\tvalidation_1-error:0\tvalidation_1-logloss:0.000171\n",
            "[167]\tvalidation_0-error:0\tvalidation_0-logloss:0.000145\tvalidation_1-error:0\tvalidation_1-logloss:0.000171\n",
            "[168]\tvalidation_0-error:0\tvalidation_0-logloss:0.000145\tvalidation_1-error:0\tvalidation_1-logloss:0.000171\n",
            "[169]\tvalidation_0-error:0\tvalidation_0-logloss:0.000145\tvalidation_1-error:0\tvalidation_1-logloss:0.00017\n",
            "[170]\tvalidation_0-error:0\tvalidation_0-logloss:0.000145\tvalidation_1-error:0\tvalidation_1-logloss:0.00017\n",
            "[171]\tvalidation_0-error:0\tvalidation_0-logloss:0.000145\tvalidation_1-error:0\tvalidation_1-logloss:0.00017\n",
            "[172]\tvalidation_0-error:0\tvalidation_0-logloss:0.000145\tvalidation_1-error:0\tvalidation_1-logloss:0.00017\n",
            "[173]\tvalidation_0-error:0\tvalidation_0-logloss:0.000144\tvalidation_1-error:0\tvalidation_1-logloss:0.00017\n",
            "[174]\tvalidation_0-error:0\tvalidation_0-logloss:0.000144\tvalidation_1-error:0\tvalidation_1-logloss:0.00017\n",
            "[175]\tvalidation_0-error:0\tvalidation_0-logloss:0.000144\tvalidation_1-error:0\tvalidation_1-logloss:0.00017\n",
            "[176]\tvalidation_0-error:0\tvalidation_0-logloss:0.000144\tvalidation_1-error:0\tvalidation_1-logloss:0.00017\n",
            "[177]\tvalidation_0-error:0\tvalidation_0-logloss:0.000144\tvalidation_1-error:0\tvalidation_1-logloss:0.00017\n",
            "[178]\tvalidation_0-error:0\tvalidation_0-logloss:0.000144\tvalidation_1-error:0\tvalidation_1-logloss:0.00017\n",
            "[179]\tvalidation_0-error:0\tvalidation_0-logloss:0.000144\tvalidation_1-error:0\tvalidation_1-logloss:0.00017\n",
            "Stopping. Best iteration:\n",
            "[169]\tvalidation_0-error:0\tvalidation_0-logloss:0.000145\tvalidation_1-error:0\tvalidation_1-logloss:0.00017\n",
            "\n",
            "CPU times: user 28.2 s, sys: 131 ms, total: 28.3 s\n",
            "Wall time: 29.1 s\n"
          ]
        }
      ]
    },
    {
      "cell_type": "code",
      "source": [
        "# make predictions for test data\n",
        "y_pred = model.predict(test_X)\n",
        "predictions = [round(value) for value in y_pred]"
      ],
      "metadata": {
        "id": "W4z-hI_RQfeO"
      },
      "execution_count": 9,
      "outputs": []
    },
    {
      "cell_type": "code",
      "source": [
        "# evaluate predictions\n",
        "accuracy = accuracy_score(test_y, predictions)\n",
        "print(\"Accuracy: %.2f%%\" % (accuracy * 100.0))"
      ],
      "metadata": {
        "colab": {
          "base_uri": "https://localhost:8080/"
        },
        "id": "QOWlDjjjQoUa",
        "outputId": "c1ef1f48-ba5f-4637-af47-328382498056"
      },
      "execution_count": 10,
      "outputs": [
        {
          "output_type": "stream",
          "name": "stdout",
          "text": [
            "Accuracy: 100.00%\n"
          ]
        }
      ]
    },
    {
      "cell_type": "code",
      "source": [
        "confusion_matrix(predictions, test_y)"
      ],
      "metadata": {
        "colab": {
          "base_uri": "https://localhost:8080/"
        },
        "id": "VriFXyXu2wR0",
        "outputId": "0562134d-29e7-47f1-bc82-c7fc6866b513"
      },
      "execution_count": 11,
      "outputs": [
        {
          "output_type": "execute_result",
          "data": {
            "text/plain": [
              "array([[ 4184,     0],\n",
              "       [    0, 17050]])"
            ]
          },
          "metadata": {},
          "execution_count": 11
        }
      ]
    },
    {
      "cell_type": "code",
      "source": [
        "# retrieve performance metrics\n",
        "results = model.evals_result()\n",
        "epochs = len(results['validation_0']['error'])\n",
        "x_axis = range(0, epochs)\n",
        "# plot log loss\n",
        "fig, ax = pyplot.subplots()\n",
        "ax.plot(x_axis, results['validation_0']['logloss'], label='Train')\n",
        "ax.plot(x_axis, results['validation_1']['logloss'], label='Test')\n",
        "ax.legend()\n",
        "pyplot.ylabel('Log Loss')\n",
        "pyplot.title('XGBoost Log Loss')\n",
        "pyplot.show()\n",
        "# plot classification error\n",
        "fig, ax = pyplot.subplots()\n",
        "ax.plot(x_axis, results['validation_0']['error'], label='Train')\n",
        "ax.plot(x_axis, results['validation_1']['error'], label='Test')\n",
        "ax.legend()\n",
        "pyplot.ylabel('Classification Error')\n",
        "pyplot.title('XGBoost Classification Error')\n",
        "pyplot.show()\n"
      ],
      "metadata": {
        "colab": {
          "base_uri": "https://localhost:8080/",
          "height": 545
        },
        "id": "1VsPaDA-3Qwn",
        "outputId": "016d3c11-9433-4bdd-b2dc-a795e8df81b1"
      },
      "execution_count": 14,
      "outputs": [
        {
          "output_type": "display_data",
          "data": {
            "image/png": "[encoded data removed]",
            "text/plain": [
              "<Figure size 432x288 with 1 Axes>"
            ]
          },
          "metadata": {
            "needs_background": "light"
          }
        },
        {
          "output_type": "display_data",
          "data": {
            "image/png": "[encoded data removed]",
            "text/plain": [
              "<Figure size 432x288 with 1 Axes>"
            ]
          },
          "metadata": {
            "needs_background": "light"
          }
        }
      ]
    },
    {
      "cell_type": "code",
      "source": [
        "def trim_str_cols(df):\n",
        "  # Removing whitespaces\n",
        "  df_trimmed = df.apply(lambda x: x.str.strip() if x.dtype == \"object\" else x)\n",
        "  return df_trimmed\n",
        "\n",
        "def dropping_duplicates(df):\n",
        "  # Dropping duplicate rows in dataframe\n",
        "  df_wd = df.drop_duplicates()\n",
        "  return df_wd\n",
        "\n",
        "cols_to_rename = {'test':'TEST', 'odi':'ODI', 't20':'T20'}\n",
        "\n",
        "def rename_cols(df, cols_to_rename):\n",
        "  # Renaming columns in dataframe\n",
        "  df = df.rename(columns=cols_to_rename)\n",
        "  return df\n",
        "\n"
      ],
      "metadata": {
        "id": "uan5-ce9_X12"
      },
      "execution_count": null,
      "outputs": []
    }
  ]
}