{
  "nbformat": 4,
  "nbformat_minor": 0,
  "metadata": {
    "colab": {
      "name": "RBS.ipynb",
      "provenance": [],
      "mount_file_id": "1a_niEDUMc7T4zoI0qLtBFD5DBRQkT-fl",
      "authorship_tag": "ABX9TyNCjvK/SWt5VElsb5GIM8Aw",
      "include_colab_link": true
    },
    "kernelspec": {
      "name": "python3",
      "display_name": "Python 3"
    },
    "language_info": {
      "name": "python"
    }
  },
  "cells": [
    {
      "cell_type": "markdown",
      "metadata": {
        "id": "view-in-github",
        "colab_type": "text"
      },
      "source": [
        "<a href=\"https://colab.research.google.com/github/vaishnav711/sopt/blob/main/RBS.ipynb\" target=\"_parent\"><img src=\"https://colab.research.google.com/assets/colab-badge.svg\" alt=\"Open In Colab\"/></a>"
      ]
    },
    {
      "cell_type": "code",
      "source": [
        "from google.colab import drive\n",
        "import numpy as np\n",
        "drive.mount('/content/drive')"
      ],
      "metadata": {
        "colab": {
          "base_uri": "https://localhost:8080/"
        },
        "id": "edfSQmvgoRwz",
        "outputId": "6ef61017-57fd-4179-b0eb-7b83ef14dfa5"
      },
      "execution_count": 1,
      "outputs": [
        {
          "output_type": "stream",
          "name": "stdout",
          "text": [
            "Drive already mounted at /content/drive; to attempt to forcibly remount, call drive.mount(\"/content/drive\", force_remount=True).\n"
          ]
        }
      ]
    },
    {
      "cell_type": "code",
      "source": [
        "import pandas as pd\n",
        "fpath = r'/content/drive/MyDrive/RBS/temp.feather'\n",
        "so_DF = pd.read_feather(fpath)\n",
        "print(so_DF.shape)"
      ],
      "metadata": {
        "id": "ft4YqWJpq3UO",
        "colab": {
          "base_uri": "https://localhost:8080/"
        },
        "outputId": "d1835270-5cbe-4fb6-b2d9-24bf35308f67"
      },
      "execution_count": 23,
      "outputs": [
        {
          "output_type": "stream",
          "name": "stdout",
          "text": [
            "(71138, 28)\n"
          ]
        }
      ]
    },
    {
      "cell_type": "code",
      "source": [
        "print('No. of nulls in the dataset: ', so_DF.isnull().values.sum())"
      ],
      "metadata": {
        "colab": {
          "base_uri": "https://localhost:8080/"
        },
        "id": "ysGBBMs5PzYu",
        "outputId": "5e995d52-0f2f-4b3f-905d-a1300cd832a7"
      },
      "execution_count": 16,
      "outputs": [
        {
          "output_type": "stream",
          "name": "stdout",
          "text": [
            "No. of nulls in the dataset:  904210\n"
          ]
        }
      ]
    },
    {
      "cell_type": "code",
      "source": [
        "print('Nulls in individual columns')\n",
        "print(so_DF.isnull().sum())"
      ],
      "metadata": {
        "colab": {
          "base_uri": "https://localhost:8080/"
        },
        "id": "9SWeC4ZqP6iO",
        "outputId": "b2171b55-9e88-469e-de91-8cdf752c96a0"
      },
      "execution_count": 17,
      "outputs": [
        {
          "output_type": "stream",
          "name": "stdout",
          "text": [
            "Nulls in individual columns\n",
            "lead                              0\n",
            "do_not_modify_row_checksum        0\n",
            "do_not_modify_modified_on     71138\n",
            "owner                             0\n",
            "lead_source                     836\n",
            "portfolio_id                  32769\n",
            "created_on                        0\n",
            "lead_closed_date                361\n",
            "modified_on                       0\n",
            "rbs_bin                       20118\n",
            "rbs_cin                       64496\n",
            "merchant                         25\n",
            "trading_name                  69485\n",
            "legal_entity_type              6184\n",
            "current_provider              46867\n",
            "mcc_code                      71138\n",
            "lead_status                       0\n",
            "status_reason                     2\n",
            "lead_id                       71138\n",
            "referral_id                   24601\n",
            "currently_taking_payments     40040\n",
            "ad_content                    64145\n",
            "campaign                      60668\n",
            "keyword                       67354\n",
            "landing_page                  60668\n",
            "medium                        60668\n",
            "source                        60670\n",
            "banked_customer               10839\n",
            "dtype: int64\n"
          ]
        }
      ]
    },
    {
      "cell_type": "code",
      "source": [
        "# skip\n",
        "col_names = list(so_DF.columns)\n",
        "col_list = []\n",
        "for cn in col_names:\n",
        "  count = so_DF[cn].count()\n",
        "  nunique = so_DF[cn].nunique()\n",
        "  data_type = so_DF[cn].dtype\n",
        "\n",
        "  cntuple = (cn, count, nunique)\n",
        "  col_list.append(cntuple)\n",
        "  print(cntuple)"
      ],
      "metadata": {
        "id": "x5UGQNH60dca"
      },
      "execution_count": null,
      "outputs": []
    },
    {
      "cell_type": "code",
      "source": [
        "col_list = [('lead', 71138, 71138, True), ('do_not_modify_row_checksum', 71138, 71138, False), ('do_not_modify_modified_on', 0, 0, False), ('owner', 71138, 89, True),\n",
        " ('lead_source', 70302, 9, True), ('portfolio_id', 38369, 1744, False), ('created_on', 71138, 66250, False), ('lead_closed_date', 70777, 807, False),\n",
        " ('modified_on', 71138, 52484, False), ('rbs_bin', 51020, 44817, False), ('rbs_cin', 6642, 6492, False), ('merchant', 71113, 66278, False), ('trading_name', 1653, 1624, False),\n",
        " ('legal_entity_type', 64954, 10, True), ('current_provider', 24271, 26, True), ('mcc_code', 0, 0, False), ('lead_status', 71138, 3, True), ('status_reason', 71136, 30, True),\n",
        " ('lead_id', 0, 0, False), ('referral_id', 46537, 42687, False), ('currently_taking_payments', 31098, 3, True), ('ad_content', 6993, 140, True), ('campaign', 10470, 91, True),\n",
        " ('keyword', 3784, 320, True), ('landing_page', 10470, 16, True), ('medium', 10470, 26, True), ('source', 10468, 21, True), ('banked_customer', 60299, 3, True)]\n",
        "\n",
        "\n",
        "col_selected = []\n",
        "cn_selected = []\n",
        "for cl in col_list:\n",
        "  if cl[3] == True:\n",
        "    col_selected.append(cl)\n",
        "    cn_selected.append(cl[0])\n",
        "print(col_selected)\n",
        " \n",
        "so_DF = so_DF[cn_selected]"
      ],
      "metadata": {
        "colab": {
          "base_uri": "https://localhost:8080/"
        },
        "id": "jFcvUZ2m1BeD",
        "outputId": "c260d8ee-46d2-419e-d48c-713ee70022f5"
      },
      "execution_count": 24,
      "outputs": [
        {
          "output_type": "stream",
          "name": "stdout",
          "text": [
            "[('lead', 71138, 71138, True), ('owner', 71138, 89, True), ('lead_source', 70302, 9, True), ('legal_entity_type', 64954, 10, True), ('current_provider', 24271, 26, True), ('lead_status', 71138, 3, True), ('status_reason', 71136, 30, True), ('currently_taking_payments', 31098, 3, True), ('ad_content', 6993, 140, True), ('campaign', 10470, 91, True), ('keyword', 3784, 320, True), ('landing_page', 10470, 16, True), ('medium', 10470, 26, True), ('source', 10468, 21, True), ('banked_customer', 60299, 3, True)]\n"
          ]
        }
      ]
    },
    {
      "cell_type": "code",
      "source": [
        "#print(so_DF.shape)\n",
        "#so_DF = so_DF.replace(to_replace='None', value=np.nan).dropna()\n",
        "#so_DF = so_DF.dropna(axis=0, how='any')\n",
        "\n",
        "so_DF = so_DF.replace(to_replace=np.nan, value='Unknown')\n",
        "so_DF = so_DF.replace(to_replace='NULL', value='Unknown')\n",
        "#print(so_DF.shape)"
      ],
      "metadata": {
        "id": "9BcZHGhqqopu"
      },
      "execution_count": 25,
      "outputs": []
    },
    {
      "cell_type": "code",
      "source": [
        "print('Columns after handling nulls')\n",
        "print(so_DF.isnull().sum())"
      ],
      "metadata": {
        "colab": {
          "base_uri": "https://localhost:8080/"
        },
        "id": "gmRWIF5NwhrV",
        "outputId": "414a2cf1-701f-4522-d182-54b10fb24544"
      },
      "execution_count": 30,
      "outputs": [
        {
          "output_type": "stream",
          "name": "stdout",
          "text": [
            "Columns after handling nulls\n",
            "lead                         0\n",
            "owner                        0\n",
            "lead_source                  0\n",
            "legal_entity_type            0\n",
            "current_provider             0\n",
            "lead_status                  0\n",
            "status_reason                0\n",
            "currently_taking_payments    0\n",
            "ad_content                   0\n",
            "campaign                     0\n",
            "keyword                      0\n",
            "landing_page                 0\n",
            "medium                       0\n",
            "source                       0\n",
            "banked_customer              0\n",
            "dtype: int64\n"
          ]
        }
      ]
    },
    {
      "cell_type": "code",
      "source": [
        "cn_selected"
      ],
      "metadata": {
        "colab": {
          "base_uri": "https://localhost:8080/"
        },
        "id": "PoUI2eCOzlyp",
        "outputId": "0ac087f4-bd6e-43d4-c479-f8777967fbbd"
      },
      "execution_count": 34,
      "outputs": [
        {
          "output_type": "execute_result",
          "data": {
            "text/plain": [
              "['lead',\n",
              " 'owner',\n",
              " 'lead_source',\n",
              " 'legal_entity_type',\n",
              " 'current_provider',\n",
              " 'lead_status',\n",
              " 'status_reason',\n",
              " 'currently_taking_payments',\n",
              " 'ad_content',\n",
              " 'campaign',\n",
              " 'keyword',\n",
              " 'landing_page',\n",
              " 'medium',\n",
              " 'source',\n",
              " 'banked_customer']"
            ]
          },
          "metadata": {},
          "execution_count": 34
        }
      ]
    },
    {
      "cell_type": "code",
      "source": [
        "so_DF['banked_customer'].value_counts()"
      ],
      "metadata": {
        "id": "TtRm5vhJ2pd2",
        "colab": {
          "base_uri": "https://localhost:8080/"
        },
        "outputId": "15c3cce5-55ff-4281-cad9-9654e4e5796c"
      },
      "execution_count": 52,
      "outputs": [
        {
          "output_type": "execute_result",
          "data": {
            "text/plain": [
              "Yes        52092\n",
              "Unknown    15563\n",
              "No          3483\n",
              "Name: banked_customer, dtype: int64"
            ]
          },
          "metadata": {},
          "execution_count": 52
        }
      ]
    },
    {
      "cell_type": "code",
      "source": [
        "col_names = list(so_DF.columns)\n",
        "\n",
        "for cn in col_names:\n",
        "  count = so_DF[cn].count()\n",
        "  nunique = so_DF[cn].nunique()\n",
        "  data_type = so_DF[cn].dtype\n",
        "\n",
        "  #if_cndt = (count > 0) and (count != nunique) and (data_type != 'datetime64[ns, UTC]')\n",
        "  #if if_cndt:\n",
        "  cntuple = (cn, count, nunique)\n",
        "  print(cntuple)"
      ],
      "metadata": {
        "colab": {
          "base_uri": "https://localhost:8080/"
        },
        "id": "i5sXtpTpP9IJ",
        "outputId": "25a8fc45-8bdc-4d85-eded-a11028122513"
      },
      "execution_count": 36,
      "outputs": [
        {
          "output_type": "stream",
          "name": "stdout",
          "text": [
            "('lead', 71138, 71138)\n",
            "('owner', 71138, 89)\n",
            "('lead_source', 71138, 10)\n",
            "('legal_entity_type', 71138, 11)\n",
            "('current_provider', 71138, 26)\n",
            "('lead_status', 71138, 3)\n",
            "('status_reason', 71138, 31)\n",
            "('currently_taking_payments', 71138, 3)\n",
            "('ad_content', 71138, 141)\n",
            "('campaign', 71138, 92)\n",
            "('keyword', 71138, 321)\n",
            "('landing_page', 71138, 17)\n",
            "('medium', 71138, 27)\n",
            "('source', 71138, 22)\n",
            "('banked_customer', 71138, 3)\n"
          ]
        }
      ]
    },
    {
      "cell_type": "code",
      "source": [
        "X_var = ['owner', 'lead_source', 'legal_entity_type', 'current_provider', 'status_reason', 'currently_taking_payments', 'ad_content', 'campaign', 'keyword', 'landing_page', 'medium', 'source', 'banked_customer']\n",
        "y_var = ['lead_status']\n",
        "X = so_DF[X_var]\n",
        "y = so_DF[y_var]"
      ],
      "metadata": {
        "id": "0UA_1EaQ0q2l"
      },
      "execution_count": 53,
      "outputs": []
    },
    {
      "cell_type": "code",
      "source": [
        "import category_encoders as ce\n",
        "ce_be = ce.BinaryEncoder(cols = X_var)\n",
        "X_ce_be = ce_be.fit_transform(X, y['lead_status'])"
      ],
      "metadata": {
        "id": "0uJp7KdB3wgz"
      },
      "execution_count": 60,
      "outputs": []
    },
    {
      "cell_type": "code",
      "source": [
        "X_ce_be.columns"
      ],
      "metadata": {
        "colab": {
          "base_uri": "https://localhost:8080/"
        },
        "id": "9FffKWAA3F14",
        "outputId": "115452e1-3f9a-4ed8-f0d4-55cd7a00ea36"
      },
      "execution_count": 62,
      "outputs": [
        {
          "output_type": "execute_result",
          "data": {
            "text/plain": [
              "Index(['owner_0', 'owner_1', 'owner_2', 'owner_3', 'owner_4', 'owner_5',\n",
              "       'owner_6', 'lead_source_0', 'lead_source_1', 'lead_source_2',\n",
              "       'lead_source_3', 'legal_entity_type_0', 'legal_entity_type_1',\n",
              "       'legal_entity_type_2', 'legal_entity_type_3', 'current_provider_0',\n",
              "       'current_provider_1', 'current_provider_2', 'current_provider_3',\n",
              "       'current_provider_4', 'status_reason_0', 'status_reason_1',\n",
              "       'status_reason_2', 'status_reason_3', 'status_reason_4',\n",
              "       'currently_taking_payments_0', 'currently_taking_payments_1',\n",
              "       'ad_content_0', 'ad_content_1', 'ad_content_2', 'ad_content_3',\n",
              "       'ad_content_4', 'ad_content_5', 'ad_content_6', 'ad_content_7',\n",
              "       'campaign_0', 'campaign_1', 'campaign_2', 'campaign_3', 'campaign_4',\n",
              "       'campaign_5', 'campaign_6', 'keyword_0', 'keyword_1', 'keyword_2',\n",
              "       'keyword_3', 'keyword_4', 'keyword_5', 'keyword_6', 'keyword_7',\n",
              "       'keyword_8', 'landing_page_0', 'landing_page_1', 'landing_page_2',\n",
              "       'landing_page_3', 'landing_page_4', 'medium_0', 'medium_1', 'medium_2',\n",
              "       'medium_3', 'medium_4', 'source_0', 'source_1', 'source_2', 'source_3',\n",
              "       'source_4', 'banked_customer_0', 'banked_customer_1'],\n",
              "      dtype='object')"
            ]
          },
          "metadata": {},
          "execution_count": 62
        }
      ]
    },
    {
      "cell_type": "code",
      "source": [
        "pip install category_encoders"
      ],
      "metadata": {
        "id": "goY3s-hhpPTY"
      },
      "execution_count": null,
      "outputs": []
    },
    {
      "cell_type": "code",
      "source": [
        ""
      ],
      "metadata": {
        "id": "eBWPUdE3BAtw"
      },
      "execution_count": null,
      "outputs": []
    },
    {
      "cell_type": "code",
      "source": [
        "def trim_str_cols(df):\n",
        "  # Removing whitespaces\n",
        "  df_trimmed = df.apply(lambda x: x.str.strip() if x.dtype == \"object\" else x)\n",
        "  return df_trimmed\n",
        "\n",
        "def dropping_duplicates(df):\n",
        "  # Dropping duplicate rows in dataframe\n",
        "  df_wd = df.drop_duplicates()\n",
        "  return df_wd\n",
        "\n",
        "cols_to_rename = {'test':'TEST', 'odi':'ODI', 't20':'T20'}\n",
        "\n",
        "def rename_cols(df, cols_to_rename):\n",
        "  # Renaming columns in dataframe\n",
        "  df = df.rename(columns=cols_to_rename)\n",
        "  return df\n",
        "\n"
      ],
      "metadata": {
        "id": "uan5-ce9_X12"
      },
      "execution_count": null,
      "outputs": []
    }
  ]
}